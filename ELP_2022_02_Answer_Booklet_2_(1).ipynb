{
  "cells": [
    {
      "cell_type": "markdown",
      "metadata": {
        "id": "view-in-github",
        "colab_type": "text"
      },
      "source": [
        "<a href=\"https://colab.research.google.com/github/GouthamPoudel/ELP-assessment/blob/main/ELP_2022_02_Answer_Booklet_2_(1).ipynb\" target=\"_parent\"><img src=\"https://colab.research.google.com/assets/colab-badge.svg\" alt=\"Open In Colab\"/></a>"
      ]
    },
    {
      "cell_type": "markdown",
      "metadata": {
        "id": "Rqo9OOSAuCdn"
      },
      "source": [
        "## Question 1 [40 Marks]:\n",
        "There is much more to creating a program than writing code. In ISYS5002, we followed a six-step problem solving methodology cycle. Demonstrate the first four steps of the problem solving methodology cycle by **designing** an application that calculates the net amount payable for items purchased at a store. The store offers a `10%` discount if the total purchase value is more than or equal to `$200` and additional `15%` on purchase amounts exceeding $1000. The app should input price of each item purchased, calculate total purchase values, the amount of discount applicable and the net amount payable by the customer and display the results. \n",
        "\n"
      ],
      "id": "Rqo9OOSAuCdn"
    },
    {
      "cell_type": "markdown",
      "source": [
        "**ANSWER: Program Design**   <*Add code/text cells as needed*>\n",
        "\n",
        "\n",
        "\n",
        "\n",
        "\n",
        "\n",
        "\n",
        "\n",
        "\n"
      ],
      "metadata": {
        "id": "FvQHYQujSSFk"
      },
      "id": "FvQHYQujSSFk"
    },
    {
      "cell_type": "markdown",
      "source": [
        "**Implement** your design. Your implementation should follow the best practices and demonstrate the last two steps of the methodology. This requirement includes input validation and testing. \n",
        "\n",
        "Save the Colab Notebook to your private GitHub repository.\n"
      ],
      "metadata": {
        "id": "ZGPychQzSAxo"
      },
      "id": "ZGPychQzSAxo"
    },
    {
      "cell_type": "markdown",
      "source": [
        "**ANSWER: Program Implementation**  <*Add code/text cells as needed*>"
      ],
      "metadata": {
        "id": "H1VSUx_uSlam"
      },
      "id": "H1VSUx_uSlam"
    },
    {
      "cell_type": "markdown",
      "source": [
        "# **INTRODUCTION**\n",
        "\n",
        "In this project, our goal is to create a program that figures out the final cost of products bought at a store. Each item's pricing should be accepted by the software, which should then add up all the purchases, calculate any applicable discounts, and display the total amount owed by the customer."
      ],
      "metadata": {
        "id": "bSK-eMl7Lrfh"
      },
      "id": "bSK-eMl7Lrfh"
    },
    {
      "cell_type": "markdown",
      "source": [
        "# **PROCEDURE**\n",
        "We stored, managed, and collaborated on projects using best practises throughout the whole process, such as the GitHub code repository. We were making the code more simpler to understand by utilising the right data types, structures, input validation, and comments."
      ],
      "metadata": {
        "id": "anJ6mwRnLxCA"
      },
      "id": "anJ6mwRnLxCA"
    },
    {
      "cell_type": "markdown",
      "source": [
        "# **DISCUSSION:**\n",
        "We are using a five-step methodology.\n",
        "\n",
        "Step 1 - Describe the issue clearly.\n",
        "\n",
        "    Collecting the amount and calculating an average and applying the discounts and displaying the discounts, and calculating the total amount owed by the customer after discount\n",
        "\n",
        "Step 2 - Describe the data's input and output.\n",
        "\n",
        "     INPUT:\n",
        "     1. Net Ammount\n",
        "     PROCESSING:\n",
        "     1. discounts\n",
        "     OUTPUT:\n",
        "     1. Discount amount\n",
        "\n",
        "\n",
        "\n"
      ],
      "metadata": {
        "id": "-RAyDjvqMBXH"
      },
      "id": "-RAyDjvqMBXH"
    },
    {
      "cell_type": "markdown",
      "source": [
        "# **THE DESIGN**\n",
        "Developing an Algorithm\n",
        "\n",
        "    Writing a pseduocode:\n",
        "    1. Get the data\n",
        "    2. Calculate the discount and total\n",
        "    3. Display the results\n",
        "\n",
        "    "
      ],
      "metadata": {
        "id": "OdQGaFvlNgRi"
      },
      "id": "OdQGaFvlNgRi"
    },
    {
      "cell_type": "code",
      "source": [
        "amt = int(1000) # Input\n",
        "\n",
        "if (amt > 0): # If statement \n",
        "    \n",
        "    if amt >= 200:\n",
        "\n",
        "        disc = amt * 0.10\n",
        "\n",
        "    elif amt >= 1000: # Elif Statement\n",
        "\n",
        "        disc = amt * 0.15\n",
        "\n",
        "    else:\n",
        "\n",
        "        disc = 0.5 * amt\n",
        "\n",
        "    print(\"Discount Amount : \", \n",
        "          disc)\n",
        "\n",
        "    print(\"To be paid by Customer : \", \n",
        "          amt - disc)\n",
        "else:\n",
        "    print(\"Invalid Amount\")"
      ],
      "metadata": {
        "id": "I5feOFKoONel"
      },
      "id": "I5feOFKoONel",
      "execution_count": null,
      "outputs": []
    },
    {
      "cell_type": "markdown",
      "source": [
        "# **FINAL DESIGN/ PROGRAMM**"
      ],
      "metadata": {
        "id": "6qcunzutOFgr"
      },
      "id": "6qcunzutOFgr"
    },
    {
      "cell_type": "code",
      "source": [
        "# input net amount\n",
        "amt = int(input(\"Enter Amount: \"))\n",
        "\n",
        "# calculate amount with discount\n",
        "if (amt > 0):\n",
        "    \n",
        "    if amt >= 200:\n",
        "\n",
        "        disc = amt * 0.10\n",
        "\n",
        "    elif amt >= 1000:\n",
        "\n",
        "        disc = amt * 0.15\n",
        "\n",
        "    else:\n",
        "\n",
        "        disc = 0.5 * amt\n",
        "\n",
        "    print(\"Discount Amount : \", \n",
        "          disc)\n",
        "\n",
        "    print(\"To be paid by Customer : \", \n",
        "          amt - disc)\n",
        "else:\n",
        "    print(\"Invalid Amount\")"
      ],
      "metadata": {
        "id": "hQonnn4JSu1N"
      },
      "execution_count": null,
      "outputs": [],
      "id": "hQonnn4JSu1N"
    },
    {
      "cell_type": "markdown",
      "id": "75e13390",
      "metadata": {
        "id": "75e13390"
      },
      "source": [
        "## Question 2 [20 Marks]:\n",
        "\n",
        "The `elp_cheer` function repeats the given word the specified number of times and then attaches exclamation marks at the end of the words.\n",
        "\n",
        "The code is not working. It contains errors and does not follow industry best practices. **Fix the mistakes, apply PEP 8 coding best practices and include appropriate comments to explain the code**. Save the Notebook to your GitHub repository."
      ]
    },
    {
      "cell_type": "code",
      "execution_count": null,
      "id": "3abab3b5",
      "metadata": {
        "id": "3abab3b5"
      },
      "outputs": [],
      "source": [
        "def elp_cheer(word, number, case):\n",
        "  '''\n",
        "  Sample output\n",
        "  >>> elp_cheer('hurray', 3, True)\n",
        "  'HURRAY HURRAY HURRAY !!!'\n",
        "  >>> elp_cheer('Hurray', 4, False)\n",
        "  'Hurray Hurray Hurray Hurray !!!'\n",
        "  >>> elp_cheer('hurray', 5, False)\n",
        "  'hurray hurray hurray hurray hurray !!!'\n",
        "  '''\n",
        "\n",
        "cheerword = ((word + \" \") * number * case ) \n",
        "    \n",
        "    if case is TRUE\n",
        "    cheerwordnew = cheerword + '!!!'\n",
        "    else:\n",
        "    cheerwordnew = cheerword.Upper() \n",
        "\n",
        "return cheerwordnew\n",
        "\n",
        "#This function takes in a word, a number, and a case value. \n",
        "#If the case value is false, it uppercases the word and adds exclamation marks. \n",
        "#Otherwise, it just returns the word.\n"
      ]
    },
    {
      "cell_type": "markdown",
      "id": "351973d9",
      "metadata": {
        "id": "351973d9"
      },
      "source": [
        "## Question 3 [30 Marks] :\n",
        "Write a program that reads in the `elp_sales.csv` and compute and display the maximum, minimum and average profit for countries in **Australia and Oceania and Asia regions**. For each country in the Australia and Oceania and Asia region, plot their total profit. \n",
        "\n",
        "*(Hint: read the CSV into a Pandas dataframe, create a new dataframe for the region, and use the new dataframe for the calculations and bar chart. Compute the total profit before computing the max, min and average)*. \n",
        "\n",
        "Save your answer booklet to your GitHub repository.\n"
      ]
    },
    {
      "cell_type": "code",
      "source": [
        "import csv\n",
        "with open('elp_sale_data.csv') as csv_file:\n",
        "    csv_reader =csv.reader(csv_file)\n",
        "                    for row in csv_reader:\n",
        "                    maximum profit = row\n",
        "                    minimum profit = float(row[8])\n",
        "                    data [state_name] = profit)\n",
        "for state in data:\n",
        "    print(state,':',data[state])"
      ],
      "metadata": {
        "id": "gnj4A5FTpjLt"
      },
      "id": "gnj4A5FTpjLt",
      "execution_count": null,
      "outputs": []
    },
    {
      "cell_type": "markdown",
      "source": [
        "## Question 4 [10 Marks]\n",
        "Write a report reflecting on the lectures, workshops, and assessments for this unit, and discuss whether we achieved the unit's learning outcomes. As an appendix to the report, please include a copy of the body of all your weekly journals in a Word document. Submit the word document via the Turnitin link on Blackboard.\n",
        "\n",
        "** DO NOT ANSWER HERE ** Your answer to Question 4 is to be completed in a Word Document."
      ],
      "metadata": {
        "id": "2EXbKLCuH5iH"
      },
      "id": "2EXbKLCuH5iH"
    }
  ],
  "metadata": {
    "kernelspec": {
      "display_name": "Python 3 (ipykernel)",
      "language": "python",
      "name": "python3"
    },
    "language_info": {
      "codemirror_mode": {
        "name": "ipython",
        "version": 3
      },
      "file_extension": ".py",
      "mimetype": "text/x-python",
      "name": "python",
      "nbconvert_exporter": "python",
      "pygments_lexer": "ipython3",
      "version": "3.9.7"
    },
    "colab": {
      "provenance": [],
      "collapsed_sections": [],
      "include_colab_link": true
    }
  },
  "nbformat": 4,
  "nbformat_minor": 5
}